{
 "cells": [
  {
   "cell_type": "code",
   "execution_count": 2,
   "metadata": {},
   "outputs": [],
   "source": [
    "import pandas as pd\n",
    "import numpy as np\n",
    "import matplotlib.pyplot as plt"
   ]
  },
  {
   "cell_type": "code",
   "execution_count": 10,
   "metadata": {},
   "outputs": [
    {
     "data": {
      "text/html": [
       "<div>\n",
       "<style scoped>\n",
       "    .dataframe tbody tr th:only-of-type {\n",
       "        vertical-align: middle;\n",
       "    }\n",
       "\n",
       "    .dataframe tbody tr th {\n",
       "        vertical-align: top;\n",
       "    }\n",
       "\n",
       "    .dataframe thead th {\n",
       "        text-align: right;\n",
       "    }\n",
       "</style>\n",
       "<table border=\"1\" class=\"dataframe\">\n",
       "  <thead>\n",
       "    <tr style=\"text-align: right;\">\n",
       "      <th></th>\n",
       "      <th>position</th>\n",
       "      <th>team</th>\n",
       "      <th>xP</th>\n",
       "      <th>assists</th>\n",
       "      <th>bonus</th>\n",
       "      <th>bps</th>\n",
       "      <th>clean_sheets</th>\n",
       "      <th>creativity</th>\n",
       "      <th>element</th>\n",
       "      <th>fixture</th>\n",
       "      <th>...</th>\n",
       "      <th>team_h_score</th>\n",
       "      <th>threat</th>\n",
       "      <th>total_points</th>\n",
       "      <th>transfers_balance</th>\n",
       "      <th>transfers_in</th>\n",
       "      <th>transfers_out</th>\n",
       "      <th>value</th>\n",
       "      <th>was_home</th>\n",
       "      <th>yellow_cards</th>\n",
       "      <th>GW</th>\n",
       "    </tr>\n",
       "    <tr>\n",
       "      <th>name</th>\n",
       "      <th></th>\n",
       "      <th></th>\n",
       "      <th></th>\n",
       "      <th></th>\n",
       "      <th></th>\n",
       "      <th></th>\n",
       "      <th></th>\n",
       "      <th></th>\n",
       "      <th></th>\n",
       "      <th></th>\n",
       "      <th></th>\n",
       "      <th></th>\n",
       "      <th></th>\n",
       "      <th></th>\n",
       "      <th></th>\n",
       "      <th></th>\n",
       "      <th></th>\n",
       "      <th></th>\n",
       "      <th></th>\n",
       "      <th></th>\n",
       "      <th></th>\n",
       "    </tr>\n",
       "  </thead>\n",
       "  <tbody>\n",
       "    <tr>\n",
       "      <th>Eric Bailly</th>\n",
       "      <td>DEF</td>\n",
       "      <td>Man Utd</td>\n",
       "      <td>0.0</td>\n",
       "      <td>0</td>\n",
       "      <td>0</td>\n",
       "      <td>0</td>\n",
       "      <td>0</td>\n",
       "      <td>0.0</td>\n",
       "      <td>286</td>\n",
       "      <td>6</td>\n",
       "      <td>...</td>\n",
       "      <td>5</td>\n",
       "      <td>0.0</td>\n",
       "      <td>0</td>\n",
       "      <td>0</td>\n",
       "      <td>0</td>\n",
       "      <td>0</td>\n",
       "      <td>50</td>\n",
       "      <td>True</td>\n",
       "      <td>0</td>\n",
       "      <td>1</td>\n",
       "    </tr>\n",
       "    <tr>\n",
       "      <th>Keinan Davis</th>\n",
       "      <td>FWD</td>\n",
       "      <td>Aston Villa</td>\n",
       "      <td>0.4</td>\n",
       "      <td>0</td>\n",
       "      <td>0</td>\n",
       "      <td>0</td>\n",
       "      <td>0</td>\n",
       "      <td>0.0</td>\n",
       "      <td>49</td>\n",
       "      <td>8</td>\n",
       "      <td>...</td>\n",
       "      <td>3</td>\n",
       "      <td>0.0</td>\n",
       "      <td>0</td>\n",
       "      <td>0</td>\n",
       "      <td>0</td>\n",
       "      <td>0</td>\n",
       "      <td>45</td>\n",
       "      <td>False</td>\n",
       "      <td>0</td>\n",
       "      <td>1</td>\n",
       "    </tr>\n",
       "    <tr>\n",
       "      <th>Ayotomiwa Dele-Bashiru</th>\n",
       "      <td>MID</td>\n",
       "      <td>Watford</td>\n",
       "      <td>0.0</td>\n",
       "      <td>0</td>\n",
       "      <td>0</td>\n",
       "      <td>0</td>\n",
       "      <td>0</td>\n",
       "      <td>0.0</td>\n",
       "      <td>394</td>\n",
       "      <td>8</td>\n",
       "      <td>...</td>\n",
       "      <td>3</td>\n",
       "      <td>0.0</td>\n",
       "      <td>0</td>\n",
       "      <td>0</td>\n",
       "      <td>0</td>\n",
       "      <td>0</td>\n",
       "      <td>45</td>\n",
       "      <td>True</td>\n",
       "      <td>0</td>\n",
       "      <td>1</td>\n",
       "    </tr>\n",
       "    <tr>\n",
       "      <th>James Ward-Prowse</th>\n",
       "      <td>MID</td>\n",
       "      <td>Southampton</td>\n",
       "      <td>2.3</td>\n",
       "      <td>0</td>\n",
       "      <td>0</td>\n",
       "      <td>20</td>\n",
       "      <td>0</td>\n",
       "      <td>30.5</td>\n",
       "      <td>341</td>\n",
       "      <td>4</td>\n",
       "      <td>...</td>\n",
       "      <td>3</td>\n",
       "      <td>0.0</td>\n",
       "      <td>2</td>\n",
       "      <td>0</td>\n",
       "      <td>0</td>\n",
       "      <td>0</td>\n",
       "      <td>65</td>\n",
       "      <td>False</td>\n",
       "      <td>0</td>\n",
       "      <td>1</td>\n",
       "    </tr>\n",
       "    <tr>\n",
       "      <th>Bruno Miguel Borges Fernandes</th>\n",
       "      <td>MID</td>\n",
       "      <td>Man Utd</td>\n",
       "      <td>4.4</td>\n",
       "      <td>0</td>\n",
       "      <td>3</td>\n",
       "      <td>61</td>\n",
       "      <td>0</td>\n",
       "      <td>35.9</td>\n",
       "      <td>277</td>\n",
       "      <td>6</td>\n",
       "      <td>...</td>\n",
       "      <td>5</td>\n",
       "      <td>59.0</td>\n",
       "      <td>20</td>\n",
       "      <td>0</td>\n",
       "      <td>0</td>\n",
       "      <td>0</td>\n",
       "      <td>120</td>\n",
       "      <td>True</td>\n",
       "      <td>0</td>\n",
       "      <td>1</td>\n",
       "    </tr>\n",
       "  </tbody>\n",
       "</table>\n",
       "<p>5 rows × 35 columns</p>\n",
       "</div>"
      ],
      "text/plain": [
       "                              position         team   xP  assists  bonus  bps   \n",
       "name                                                                            \n",
       "Eric Bailly                        DEF      Man Utd  0.0        0      0    0  \\\n",
       "Keinan Davis                       FWD  Aston Villa  0.4        0      0    0   \n",
       "Ayotomiwa Dele-Bashiru             MID      Watford  0.0        0      0    0   \n",
       "James Ward-Prowse                  MID  Southampton  2.3        0      0   20   \n",
       "Bruno Miguel Borges Fernandes      MID      Man Utd  4.4        0      3   61   \n",
       "\n",
       "                               clean_sheets  creativity  element  fixture   \n",
       "name                                                                        \n",
       "Eric Bailly                               0         0.0      286        6  \\\n",
       "Keinan Davis                              0         0.0       49        8   \n",
       "Ayotomiwa Dele-Bashiru                    0         0.0      394        8   \n",
       "James Ward-Prowse                         0        30.5      341        4   \n",
       "Bruno Miguel Borges Fernandes             0        35.9      277        6   \n",
       "\n",
       "                               ...  team_h_score  threat  total_points   \n",
       "name                           ...                                       \n",
       "Eric Bailly                    ...             5     0.0             0  \\\n",
       "Keinan Davis                   ...             3     0.0             0   \n",
       "Ayotomiwa Dele-Bashiru         ...             3     0.0             0   \n",
       "James Ward-Prowse              ...             3     0.0             2   \n",
       "Bruno Miguel Borges Fernandes  ...             5    59.0            20   \n",
       "\n",
       "                               transfers_balance transfers_in  transfers_out   \n",
       "name                                                                           \n",
       "Eric Bailly                                    0            0              0  \\\n",
       "Keinan Davis                                   0            0              0   \n",
       "Ayotomiwa Dele-Bashiru                         0            0              0   \n",
       "James Ward-Prowse                              0            0              0   \n",
       "Bruno Miguel Borges Fernandes                  0            0              0   \n",
       "\n",
       "                               value  was_home  yellow_cards  GW  \n",
       "name                                                              \n",
       "Eric Bailly                       50      True             0   1  \n",
       "Keinan Davis                      45     False             0   1  \n",
       "Ayotomiwa Dele-Bashiru            45      True             0   1  \n",
       "James Ward-Prowse                 65     False             0   1  \n",
       "Bruno Miguel Borges Fernandes    120      True             0   1  \n",
       "\n",
       "[5 rows x 35 columns]"
      ]
     },
     "execution_count": 10,
     "metadata": {},
     "output_type": "execute_result"
    }
   ],
   "source": [
    "year = str(input('Enter the season: '))\n",
    "string = \"Fantasy-Premier-League/data/\"+year+\"/gws/merged_gw.csv\"\n",
    "df = pd.read_csv(string,index_col = 0)\n",
    "df.head()"
   ]
  },
  {
   "cell_type": "code",
   "execution_count": 96,
   "metadata": {},
   "outputs": [],
   "source": [
    "total_points = df[['GW','total_points']].copy()"
   ]
  },
  {
   "cell_type": "code",
   "execution_count": 97,
   "metadata": {},
   "outputs": [],
   "source": [
    "total_points = total_points.reset_index()"
   ]
  },
  {
   "cell_type": "code",
   "execution_count": 167,
   "metadata": {},
   "outputs": [],
   "source": [
    "mo_salah = total_points[total_points[\"name\"] == 'Mohamed Salah']\n",
    "mo_salah = mo_salah.drop('name', axis=1)\n",
    "mo_salah = mo_salah.set_index('GW')"
   ]
  },
  {
   "cell_type": "code",
   "execution_count": 168,
   "metadata": {},
   "outputs": [
    {
     "data": {
      "text/plain": [
       "[<matplotlib.lines.Line2D at 0x22da348f410>]"
      ]
     },
     "execution_count": 168,
     "metadata": {},
     "output_type": "execute_result"
    },
    {
     "data": {
      "image/png": "[encoded data removed]",
      "text/plain": [
       "<Figure size 640x480 with 1 Axes>"
      ]
     },
     "metadata": {},
     "output_type": "display_data"
    }
   ],
   "source": [
    "plt.plot(mo_salah)"
   ]
  },
  {
   "cell_type": "code",
   "execution_count": 169,
   "metadata": {},
   "outputs": [
    {
     "data": {
      "text/plain": [
       "[<matplotlib.lines.Line2D at 0x22da0acb090>]"
      ]
     },
     "execution_count": 169,
     "metadata": {},
     "output_type": "execute_result"
    },
    {
     "data": {
      "image/png": "[encoded data removed]",
      "text/plain": [
       "<Figure size 640x480 with 1 Axes>"
      ]
     },
     "metadata": {},
     "output_type": "display_data"
    }
   ],
   "source": [
    "plt.plot(np.cumsum(mo_salah['total_points']))"
   ]
  },
  {
   "cell_type": "code",
   "execution_count": null,
   "metadata": {},
   "outputs": [],
   "source": []
  }
 ],
 "metadata": {
  "kernelspec": {
   "display_name": "Python 3",
   "language": "python",
   "name": "python3"
  },
  "language_info": {
   "codemirror_mode": {
    "name": "ipython",
    "version": 3
   },
   "file_extension": ".py",
   "mimetype": "text/x-python",
   "name": "python",
   "nbconvert_exporter": "python",
   "pygments_lexer": "ipython3",
   "version": "3.11.3"
  },
  "orig_nbformat": 4
 },
 "nbformat": 4,
 "nbformat_minor": 2
}
